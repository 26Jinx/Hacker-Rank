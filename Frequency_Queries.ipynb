{
 "cells": [
  {
   "cell_type": "markdown",
   "metadata": {},
   "source": [
    "You are given  queries. Each query is of the form two integers described below:\n",
    "1 : Insert x in your data structure.\n",
    "2  : Delete one occurence of y from your data structure, if present.\n",
    "3  : Check if any integer is present whose frequency is exactly . If yes, print 1 else 0.\n",
    "\n",
    "The queries are given in the form of a 2-D array  of size  where  contains the operation, and  contains the data element. For example, you are given array . The results of each operation are:\n",
    "\n",
    "Operation   Array   Output\n",
    "(1,1)       [1]\n",
    "(2,2)       [1]\n",
    "(3,2)                   0\n",
    "(1,1)       [1,1]\n",
    "(1,1)       [1,1,1]\n",
    "(2,1)       [1,1]\n",
    "(3,2)                   1\n",
    "Return an array with the output: .\n",
    "\n",
    "Function Description\n",
    "\n",
    "Complete the freqQuery function in the editor below. It must return an array of integers where each element is a  if there is at least one element value with the queried number of occurrences in the current array, or 0 if there is not.\n",
    "\n",
    "freqQuery has the following parameter(s):\n",
    "\n",
    "queries: a 2-d array of integers\n",
    "Input Format\n",
    "\n",
    "The first line contains of an integer , the number of queries.\n",
    "Each of the next  lines contains two integers denoting the 2-d array .\n",
    "\n",
    "Constraints\n",
    "\n",
    "All \n",
    "Output Format\n",
    "\n",
    "Return an integer array consisting of all the outputs of queries of type ."
   ]
  },
  {
   "cell_type": "code",
   "execution_count": null,
   "metadata": {},
   "outputs": [],
   "source": []
  }
 ],
 "metadata": {
  "kernelspec": {
   "display_name": "Python 3",
   "language": "python",
   "name": "python3"
  },
  "language_info": {
   "codemirror_mode": {
    "name": "ipython",
    "version": 3
   },
   "file_extension": ".py",
   "mimetype": "text/x-python",
   "name": "python",
   "nbconvert_exporter": "python",
   "pygments_lexer": "ipython3",
   "version": "3.7.3"
  }
 },
 "nbformat": 4,
 "nbformat_minor": 2
}
