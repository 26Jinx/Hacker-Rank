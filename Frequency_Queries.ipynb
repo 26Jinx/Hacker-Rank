{
 "cells": [
  {
   "cell_type": "markdown",
   "metadata": {},
   "source": [
    "![prompt](prompts/frequency_queries.png)"
   ]
  },
  {
   "cell_type": "code",
   "execution_count": null,
   "metadata": {},
   "outputs": [],
   "source": [
    "import math\n",
    "import os\n",
    "import random\n",
    "import re\n",
    "import sys\n",
    "\n",
    "# Complete the freqQuery function below.\n",
    "\n",
    "def freqQuery(queries):\n",
    "    elem = {}\n",
    "    ans = []\n",
    "\n",
    "    for q in queries:\n",
    "        if q[0] == 1:\n",
    "            elem[q[1]] = elem[q[1]]+1 if q[1] in elem else 1\n",
    "            print(elem)\n",
    "            \n",
    "        elif q[0] == 2:\n",
    "            elem[q[1]] = elem[q[1]]-1 if q[1] in elem else 0\n",
    "            print(elem)\n",
    "        else:\n",
    "            a = 1 if q[1] in elem.values() else 0\n",
    "            ans.append(a)\n",
    "\n",
    "    return ans\n",
    "    "
   ]
  }
 ],
 "metadata": {
  "kernelspec": {
   "display_name": "Python 3",
   "language": "python",
   "name": "python3"
  },
  "language_info": {
   "codemirror_mode": {
    "name": "ipython",
    "version": 3
   },
   "file_extension": ".py",
   "mimetype": "text/x-python",
   "name": "python",
   "nbconvert_exporter": "python",
   "pygments_lexer": "ipython3",
   "version": "3.7.3"
  }
 },
 "nbformat": 4,
 "nbformat_minor": 2
}
