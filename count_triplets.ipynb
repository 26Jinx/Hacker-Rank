{
 "cells": [
  {
   "cell_type": "markdown",
   "metadata": {},
   "source": [
    "You are given an array and you need to find number of tripets of indices  such that the elements at those indices are in geometric progression for a given common ratio and list.\n",
    "\n",
    "Function Description\n",
    "\n",
    "Complete the countTriplets function in the editor below. It should return the number of triplets forming a geometric progression for a given  as an integer.\n",
    "\n",
    "countTriplets has the following parameter(s):\n",
    "\n",
    "arr: an array of integers\n",
    "r: an integer, the common ratio\n",
    "\n",
    "The first line contains two space-separated integers  and , the size of  and the common ratio.\n",
    "The next line contains  space-seperated integers .\n",
    "\n",
    "Return the count of triplets that form a geometric progression."
   ]
  },
  {
   "cell_type": "code",
   "execution_count": null,
   "metadata": {},
   "outputs": [],
   "source": []
  }
 ],
 "metadata": {
  "kernelspec": {
   "display_name": "Python 3",
   "language": "python",
   "name": "python3"
  },
  "language_info": {
   "codemirror_mode": {
    "name": "ipython",
    "version": 3
   },
   "file_extension": ".py",
   "mimetype": "text/x-python",
   "name": "python",
   "nbconvert_exporter": "python",
   "pygments_lexer": "ipython3",
   "version": "3.7.3"
  }
 },
 "nbformat": 4,
 "nbformat_minor": 2
}
