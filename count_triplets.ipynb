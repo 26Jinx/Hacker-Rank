{
 "cells": [
  {
   "cell_type": "markdown",
   "metadata": {},
   "source": [
    "You are given an array and you need to find number of tripets of indices  such that the elements at those indices are in geometric progression for a given common ratio and list.\n",
    "\n",
    "Function Description\n",
    "\n",
    "Complete the countTriplets function in the editor below. It should return the number of triplets forming a geometric progression for a given  as an integer.\n",
    "\n",
    "countTriplets has the following parameter(s):\n",
    "\n",
    "arr: an array of integers\n",
    "r: an integer, the common ratio\n",
    "\n",
    "The first line contains two space-separated integers  and , the size of  and the common ratio.\n",
    "The next line contains  space-seperated integers .\n",
    "\n",
    "Return the count of triplets that form a geometric progression."
   ]
  },
  {
   "cell_type": "code",
   "execution_count": 1,
   "metadata": {},
   "outputs": [],
   "source": [
    "import math\n",
    "import os\n",
    "import random\n",
    "import re\n",
    "import sys\n",
    "\n",
    "# Complete the countTriplets function below.\n",
    "def countTriplets(arr, r):\n",
    "    # create dict with values and their corresponding indices\n",
    "    ct_dict = {}\n",
    "    for n in arr:\n",
    "        if n in ct_dict:\n",
    "            ct_dict[n] += 1\n",
    "        else:\n",
    "            ct_dict[n] = 1\n",
    "    \n",
    "    idx_dict = {i: n for i, n in enumerate(arr)}\n",
    "\n",
    "    total = 0\n",
    "\n",
    "    # three possibilities\n",
    "    # max combinations - all numbers are same\n",
    "    # returns a geometric sum\n",
    "    if len(ct_dict.keys()) == 1:\n",
    "        prev = 0\n",
    "        for i in (range(3, len(arr)+1)):\n",
    "            total += (prev + (i-2))\n",
    "            prev = prev+i-2\n",
    "            print(total)\n",
    "\n",
    "    # min combinations - all numbers are unique\n",
    "    # total combos are just the length of array minus 2\n",
    "    elif len(ct_dict.keys()) == len(arr):\n",
    "        total = len(arr) - 2\n",
    "\n",
    "    # some repeated numbers\n",
    "    # combos are min combos x number of repeats\n",
    "    else:\n",
    "        total = len(ct_dict) - 2\n",
    "        for k, v in ct_dict.items():\n",
    "            if v > 1:\n",
    "                total *= v\n",
    "    \n",
    "    return total"
   ]
  },
  {
   "cell_type": "code",
   "execution_count": null,
   "metadata": {},
   "outputs": [],
   "source": []
  }
 ],
 "metadata": {
  "kernelspec": {
   "display_name": "Python 3",
   "language": "python",
   "name": "python3"
  },
  "language_info": {
   "codemirror_mode": {
    "name": "ipython",
    "version": 3
   },
   "file_extension": ".py",
   "mimetype": "text/x-python",
   "name": "python",
   "nbconvert_exporter": "python",
   "pygments_lexer": "ipython3",
   "version": "3.7.3"
  }
 },
 "nbformat": 4,
 "nbformat_minor": 2
}
