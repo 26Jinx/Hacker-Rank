{
 "cells": [
  {
   "cell_type": "markdown",
   "metadata": {},
   "source": [
    "You are given an array and you need to find number of tripets of indices  such that the elements at those indices are in geometric progression for a given common ratio and list.\n",
    "\n",
    "Function Description\n",
    "\n",
    "Complete the countTriplets function in the editor below. It should return the number of triplets forming a geometric progression for a given  as an integer.\n",
    "\n",
    "countTriplets has the following parameter(s):\n",
    "\n",
    "arr: an array of integers\n",
    "r: an integer, the common ratio\n",
    "\n",
    "The first line contains two space-separated integers  and , the size of  and the common ratio.\n",
    "The next line contains  space-seperated integers .\n",
    "\n",
    "Return the count of triplets that form a geometric progression."
   ]
  },
  {
   "cell_type": "code",
   "execution_count": 46,
   "metadata": {},
   "outputs": [],
   "source": [
    "import math\n",
    "import os\n",
    "import random\n",
    "import re\n",
    "import sys\n",
    "\n",
    "# Complete the countTriplets function below.\n",
    "def countTriplets(arr, r):\n",
    "    total = 0\n",
    "    \n",
    "    # create dict with values and their corresponding indices\n",
    "    idx_dict = {}\n",
    "    for i, n in enumerate(arr):\n",
    "        if n in idx_dict:\n",
    "            idx_dict[n].append(i)\n",
    "        else:\n",
    "            idx_dict[n] = [i]\n",
    "    \n",
    "    print(idx_dict)\n",
    "            \n",
    "    # create a function that finds number of multiples to the right\n",
    "    def next_mults(num, i_list, r):\n",
    "        next_mult = num*r\n",
    "        \n",
    "        for i in i_list:\n",
    "            if num*r in idx_dict:\n",
    "                for idx in idx_dict[next_mult]:\n",
    "                    if idx > i:\n",
    "                        count += 1\n",
    "                        \n",
    "                next_mults(next_mult, idx_dict[next_mult], r)\n",
    "        \n",
    "        print(count)\n",
    "        return count\n",
    "            \n",
    "\n",
    "    # three possibilities\n",
    "    # max combinations - all numbers are same\n",
    "    # returns a geometric sum\n",
    "    if len(idx_dict.keys()) == 1:\n",
    "        prev = 0\n",
    "        for i in (range(3, len(arr)+1)):\n",
    "            total += (prev + (i-2))\n",
    "            prev = prev+i-2\n",
    "            #print(total)\n",
    "\n",
    "    # min combinations - all numbers are unique\n",
    "    # total combos are just the length of array minus 2\n",
    "    elif len(idx_dict.keys()) == len(arr):\n",
    "        total = len(arr) - 2\n",
    "\n",
    "    # some repeated numbers\n",
    "    # combos are min combos x number of repeats\n",
    "    else:\n",
    "        total = len(idx_dict) - 2\n",
    "        for k, v in idx_dict.items():\n",
    "            i_list = v\n",
    "            next_mults(k, i_list, r)\n",
    "    \n",
    "    return total"
   ]
  },
  {
   "cell_type": "code",
   "execution_count": 47,
   "metadata": {},
   "outputs": [
    {
     "name": "stdout",
     "output_type": "stream",
     "text": [
      "{1: [0, 1, 2, 3, 4]}\n",
      "10\n",
      "{1: [0], 2: [1, 2], 4: [3], 8: [4]}\n"
     ]
    },
    {
     "ename": "UnboundLocalError",
     "evalue": "local variable 'count' referenced before assignment",
     "output_type": "error",
     "traceback": [
      "\u001b[0;31m---------------------------------------------------------------------------\u001b[0m",
      "\u001b[0;31mUnboundLocalError\u001b[0m                         Traceback (most recent call last)",
      "\u001b[0;32m<ipython-input-47-e0c30e00e358>\u001b[0m in \u001b[0;36m<module>\u001b[0;34m\u001b[0m\n\u001b[1;32m      6\u001b[0m \u001b[0;34m\u001b[0m\u001b[0m\n\u001b[1;32m      7\u001b[0m \u001b[0;32mfor\u001b[0m \u001b[0mlist\u001b[0m \u001b[0;32min\u001b[0m \u001b[0mlists\u001b[0m\u001b[0;34m:\u001b[0m\u001b[0;34m\u001b[0m\u001b[0;34m\u001b[0m\u001b[0m\n\u001b[0;32m----> 8\u001b[0;31m     \u001b[0mprint\u001b[0m\u001b[0;34m(\u001b[0m\u001b[0mcountTriplets\u001b[0m\u001b[0;34m(\u001b[0m\u001b[0mlist\u001b[0m\u001b[0;34m[\u001b[0m\u001b[0;36m0\u001b[0m\u001b[0;34m]\u001b[0m\u001b[0;34m,\u001b[0m \u001b[0mlist\u001b[0m\u001b[0;34m[\u001b[0m\u001b[0;36m1\u001b[0m\u001b[0;34m]\u001b[0m\u001b[0;34m)\u001b[0m\u001b[0;34m)\u001b[0m\u001b[0;34m\u001b[0m\u001b[0;34m\u001b[0m\u001b[0m\n\u001b[0m",
      "\u001b[0;32m<ipython-input-46-25619d2c797a>\u001b[0m in \u001b[0;36mcountTriplets\u001b[0;34m(arr, r)\u001b[0m\n\u001b[1;32m     58\u001b[0m             \u001b[0mcount\u001b[0m \u001b[0;34m=\u001b[0m \u001b[0;36m0\u001b[0m\u001b[0;34m\u001b[0m\u001b[0;34m\u001b[0m\u001b[0m\n\u001b[1;32m     59\u001b[0m             \u001b[0mi_list\u001b[0m \u001b[0;34m=\u001b[0m \u001b[0mv\u001b[0m\u001b[0;34m\u001b[0m\u001b[0;34m\u001b[0m\u001b[0m\n\u001b[0;32m---> 60\u001b[0;31m             \u001b[0mnext_mults\u001b[0m\u001b[0;34m(\u001b[0m\u001b[0mk\u001b[0m\u001b[0;34m,\u001b[0m \u001b[0mi_list\u001b[0m\u001b[0;34m,\u001b[0m \u001b[0mr\u001b[0m\u001b[0;34m)\u001b[0m\u001b[0;34m\u001b[0m\u001b[0;34m\u001b[0m\u001b[0m\n\u001b[0m\u001b[1;32m     61\u001b[0m \u001b[0;34m\u001b[0m\u001b[0m\n\u001b[1;32m     62\u001b[0m     \u001b[0;32mreturn\u001b[0m \u001b[0mtotal\u001b[0m\u001b[0;34m\u001b[0m\u001b[0;34m\u001b[0m\u001b[0m\n",
      "\u001b[0;32m<ipython-input-46-25619d2c797a>\u001b[0m in \u001b[0;36mnext_mults\u001b[0;34m(num, i_list, r)\u001b[0m\n\u001b[1;32m     28\u001b[0m                 \u001b[0;32mfor\u001b[0m \u001b[0midx\u001b[0m \u001b[0;32min\u001b[0m \u001b[0midx_dict\u001b[0m\u001b[0;34m[\u001b[0m\u001b[0mnext_mult\u001b[0m\u001b[0;34m]\u001b[0m\u001b[0;34m:\u001b[0m\u001b[0;34m\u001b[0m\u001b[0;34m\u001b[0m\u001b[0m\n\u001b[1;32m     29\u001b[0m                     \u001b[0;32mif\u001b[0m \u001b[0midx\u001b[0m \u001b[0;34m>\u001b[0m \u001b[0mi\u001b[0m\u001b[0;34m:\u001b[0m\u001b[0;34m\u001b[0m\u001b[0;34m\u001b[0m\u001b[0m\n\u001b[0;32m---> 30\u001b[0;31m                         \u001b[0mcount\u001b[0m \u001b[0;34m+=\u001b[0m \u001b[0;36m1\u001b[0m\u001b[0;34m\u001b[0m\u001b[0;34m\u001b[0m\u001b[0m\n\u001b[0m\u001b[1;32m     31\u001b[0m \u001b[0;34m\u001b[0m\u001b[0m\n\u001b[1;32m     32\u001b[0m                 \u001b[0mnext_mults\u001b[0m\u001b[0;34m(\u001b[0m\u001b[0mnext_mult\u001b[0m\u001b[0;34m,\u001b[0m \u001b[0midx_dict\u001b[0m\u001b[0;34m[\u001b[0m\u001b[0mnext_mult\u001b[0m\u001b[0;34m]\u001b[0m\u001b[0;34m,\u001b[0m \u001b[0mr\u001b[0m\u001b[0;34m)\u001b[0m\u001b[0;34m\u001b[0m\u001b[0;34m\u001b[0m\u001b[0m\n",
      "\u001b[0;31mUnboundLocalError\u001b[0m: local variable 'count' referenced before assignment"
     ]
    }
   ],
   "source": [
    "a1 = ([1, 1, 1, 1, 1], 1)\n",
    "a2 = ([1, 2, 2, 4, 8], 2)\n",
    "a3 = ([1, 3, 9, 27, 81, 27], 3)\n",
    "\n",
    "lists = [a1, a2, a3]\n",
    "\n",
    "for list in lists:\n",
    "    print(countTriplets(list[0], list[1]))"
   ]
  },
  {
   "cell_type": "code",
   "execution_count": 6,
   "metadata": {},
   "outputs": [
    {
     "ename": "NameError",
     "evalue": "name 'idx_dict' is not defined",
     "output_type": "error",
     "traceback": [
      "\u001b[0;31m---------------------------------------------------------------------------\u001b[0m",
      "\u001b[0;31mNameError\u001b[0m                                 Traceback (most recent call last)",
      "\u001b[0;32m<ipython-input-6-df43927fbedf>\u001b[0m in \u001b[0;36m<module>\u001b[0;34m\u001b[0m\n\u001b[0;32m----> 1\u001b[0;31m \u001b[0mprint\u001b[0m\u001b[0;34m(\u001b[0m\u001b[0midx_dict\u001b[0m\u001b[0;34m)\u001b[0m\u001b[0;34m\u001b[0m\u001b[0;34m\u001b[0m\u001b[0m\n\u001b[0m",
      "\u001b[0;31mNameError\u001b[0m: name 'idx_dict' is not defined"
     ]
    }
   ],
   "source": []
  },
  {
   "cell_type": "code",
   "execution_count": null,
   "metadata": {},
   "outputs": [],
   "source": []
  }
 ],
 "metadata": {
  "kernelspec": {
   "display_name": "Python 3",
   "language": "python",
   "name": "python3"
  },
  "language_info": {
   "codemirror_mode": {
    "name": "ipython",
    "version": 3
   },
   "file_extension": ".py",
   "mimetype": "text/x-python",
   "name": "python",
   "nbconvert_exporter": "python",
   "pygments_lexer": "ipython3",
   "version": "3.7.3"
  }
 },
 "nbformat": 4,
 "nbformat_minor": 2
}
