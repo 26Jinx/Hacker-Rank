{
 "cells": [
  {
   "cell_type": "markdown",
   "metadata": {},
   "source": [
    "You are given an array and you need to find number of tripets of indices  such that the elements at those indices are in geometric progression for a given common ratio and list.\n",
    "\n",
    "Function Description\n",
    "\n",
    "Complete the countTriplets function in the editor below. It should return the number of triplets forming a geometric progression for a given  as an integer.\n",
    "\n",
    "countTriplets has the following parameter(s):\n",
    "\n",
    "arr: an array of integers\n",
    "r: an integer, the common ratio\n",
    "\n",
    "The first line contains two space-separated integers  and , the size of  and the common ratio.\n",
    "The next line contains  space-seperated integers .\n",
    "\n",
    "Return the count of triplets that form a geometric progression."
   ]
  },
  {
   "cell_type": "code",
   "execution_count": 14,
   "metadata": {},
   "outputs": [],
   "source": [
    "import math\n",
    "import os\n",
    "import random\n",
    "import re\n",
    "import sys\n",
    "\n",
    "# Complete the countTriplets function below.\n",
    "def countTriplets(arr, r):\n",
    "    total = 0\n",
    "    \n",
    "    # create dict with values and their corresponding indices\n",
    "    idx_dict = {}\n",
    "    for i, n in enumerate(arr):\n",
    "        if n in idx_dict:\n",
    "            idx_dict[n].append(i)\n",
    "        else:\n",
    "            idx_dict[n] = [i]\n",
    "    \n",
    "    print(idx_dict)\n",
    "                \n",
    "    # three possibilities\n",
    "    # max combinations - all numbers are same\n",
    "    # returns a geometric sum\n",
    "    if len(idx_dict.keys()) == 1:\n",
    "        prev = 0\n",
    "        for i in (range(3, len(arr)+1)):\n",
    "            total += (prev + (i-2))\n",
    "            prev = prev+i-2\n",
    "            #print(total)\n",
    "\n",
    "    # min combinations - all numbers are unique\n",
    "    # total combos are just the length of array minus 2\n",
    "    elif len(idx_dict.keys()) == len(arr):\n",
    "        total = len(arr) - 2\n",
    "\n",
    "    # some repeated numbers\n",
    "    # combos are min combos x number of repeats\n",
    "    else:\n",
    "        for num in arr[:-2]:\n",
    "            if num*r in idx_dict:\n",
    "                first_mult_idx = idx_dict[num*r]\n",
    "\n",
    "            for idx in first_mult_idx:\n",
    "                total += arr[idx+1:].count(num*r*r)\n",
    "\n",
    "            #print(f'first total:{total}')\n",
    "    \n",
    "    return total"
   ]
  },
  {
   "cell_type": "code",
   "execution_count": 17,
   "metadata": {},
   "outputs": [
    {
     "name": "stdout",
     "output_type": "stream",
     "text": [
      "{1: [0, 1, 2, 3, 4]}\n",
      "10\n",
      "{1: [0], 2: [1, 2], 4: [3], 8: [4]}\n",
      "first total:2\n",
      "first total:3\n",
      "first total:4\n",
      "4\n",
      "{1: [0], 3: [1], 9: [2], 27: [3, 5], 81: [4]}\n",
      "first total:1\n",
      "first total:3\n",
      "first total:4\n",
      "first total:4\n",
      "4\n"
     ]
    }
   ],
   "source": [
    "a1 = ([1, 1, 1, 1, 1], 1)\n",
    "a2 = ([1, 2, 2, 4, 8], 2)\n",
    "a3 = ([1, 3, 9, 27, 81, 27], 3)\n",
    "\n",
    "lists = [a1, a2, a3]\n",
    "\n",
    "for list in lists:\n",
    "    print(countTriplets(list[0], list[1]))"
   ]
  },
  {
   "cell_type": "code",
   "execution_count": 6,
   "metadata": {},
   "outputs": [
    {
     "ename": "NameError",
     "evalue": "name 'idx_dict' is not defined",
     "output_type": "error",
     "traceback": [
      "\u001b[0;31m---------------------------------------------------------------------------\u001b[0m",
      "\u001b[0;31mNameError\u001b[0m                                 Traceback (most recent call last)",
      "\u001b[0;32m<ipython-input-6-df43927fbedf>\u001b[0m in \u001b[0;36m<module>\u001b[0;34m\u001b[0m\n\u001b[0;32m----> 1\u001b[0;31m \u001b[0mprint\u001b[0m\u001b[0;34m(\u001b[0m\u001b[0midx_dict\u001b[0m\u001b[0;34m)\u001b[0m\u001b[0;34m\u001b[0m\u001b[0;34m\u001b[0m\u001b[0m\n\u001b[0m",
      "\u001b[0;31mNameError\u001b[0m: name 'idx_dict' is not defined"
     ]
    }
   ],
   "source": []
  },
  {
   "cell_type": "code",
   "execution_count": null,
   "metadata": {},
   "outputs": [],
   "source": []
  }
 ],
 "metadata": {
  "kernelspec": {
   "display_name": "Python 3",
   "language": "python",
   "name": "python3"
  },
  "language_info": {
   "codemirror_mode": {
    "name": "ipython",
    "version": 3
   },
   "file_extension": ".py",
   "mimetype": "text/x-python",
   "name": "python",
   "nbconvert_exporter": "python",
   "pygments_lexer": "ipython3",
   "version": "3.7.3"
  }
 },
 "nbformat": 4,
 "nbformat_minor": 2
}
